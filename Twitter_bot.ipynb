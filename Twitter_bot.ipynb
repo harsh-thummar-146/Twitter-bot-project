{
  "nbformat": 4,
  "nbformat_minor": 0,
  "metadata": {
    "colab": {
      "name": "Twitter_bot.ipynb",
      "provenance": [],
      "collapsed_sections": [],
      "authorship_tag": "ABX9TyNOBXspFhdwhdq40T5xtau8",
      "include_colab_link": true
    },
    "kernelspec": {
      "name": "python3",
      "display_name": "Python 3"
    },
    "language_info": {
      "name": "python"
    }
  },
  "cells": [
    {
      "cell_type": "markdown",
      "metadata": {
        "id": "view-in-github",
        "colab_type": "text"
      },
      "source": [
        "<a href=\"https://colab.research.google.com/github/harsh-thummar-146/Twitter-bot-project/blob/main/Twitter_bot.ipynb\" target=\"_parent\"><img src=\"https://colab.research.google.com/assets/colab-badge.svg\" alt=\"Open In Colab\"/></a>"
      ]
    },
    {
      "cell_type": "code",
      "metadata": {
        "id": "ryvVhcxB_rfb"
      },
      "source": [
        ""
      ],
      "execution_count": null,
      "outputs": []
    },
    {
      "cell_type": "markdown",
      "metadata": {
        "id": "ielTpOoFLi5t"
      },
      "source": [
        "## **Twitter-Bot** with the help of Twitter Developer Account\n",
        "-Creator : Thummar Harsh B\n"
      ]
    },
    {
      "cell_type": "code",
      "metadata": {
        "id": "yjTgWCBhPyOg"
      },
      "source": [
        "## Description: here we are going to create a twitter-bot which takes \n",
        "##   User's Name and follower count / following count and \n",
        "##   combined it to up date final user name which looks like:\n",
        "\n",
        "## final_username= 'user_name' + 'No_of-followers'\n",
        "\n",
        "## now this will run into loop and gets updated every time when no_of_followers changes of the user"
      ],
      "execution_count": null,
      "outputs": []
    },
    {
      "cell_type": "markdown",
      "metadata": {
        "id": "FjaVL_wzL7f4"
      },
      "source": [
        "**step 1**: \n",
        "import tweepy library \n",
        "\n",
        "\n",
        " "
      ]
    },
    {
      "cell_type": "markdown",
      "metadata": {
        "id": "WqmBiK7NMgOG"
      },
      "source": [
        "**step 2**: Collect necessory from twitter developer account like \n",
        "-\n",
        "\n",
        "              - consumer_key\n",
        "              - Consumer_secret\n",
        "              - access_token\n",
        "              - access_token_secret\n",
        "\n",
        "              "
      ]
    },
    {
      "cell_type": "code",
      "metadata": {
        "id": "m2NNueIMQE30"
      },
      "source": [
        " ## Here, to Access Authentication write this code in Google-colab and see users activity"
      ],
      "execution_count": null,
      "outputs": []
    },
    {
      "cell_type": "code",
      "metadata": {
        "id": "m11ryDvaAUYZ"
      },
      "source": [
        "import tweepy\n",
        "consumer_key='jfIPOZPBMIyh3R1Cm0GMLeQC7'\n",
        "consumer_secret='nvNv1VAF1vpZ7GIkHfNk3UPlgfbTLraiy3kDDPMgCH2hQ9GK5Z'\n",
        "access_token='1400730890183995392-eXsqt6PMrZ36dBxXr0Ipo90pcU2CWT'\n",
        "access_token_secret='V5uRIizBeY8getyomdQkIcM6UrLvsz0to78rDaxG5KKKw'\n"
      ],
      "execution_count": null,
      "outputs": []
    },
    {
      "cell_type": "code",
      "metadata": {
        "id": "7dgkV2M0PA3Y"
      },
      "source": [
        "import tweepy\n",
        "\n",
        "auth = tweepy.OAuthHandler(consumer_key, consumer_secret)\n",
        "auth.set_access_token(access_token, access_token_secret)\n",
        "\n",
        "## now developer has authentication of that twitter account"
      ],
      "execution_count": null,
      "outputs": []
    },
    {
      "cell_type": "code",
      "metadata": {
        "colab": {
          "base_uri": "https://localhost:8080/"
        },
        "id": "zWg1fmJjPEfO",
        "outputId": "a92ff001-e268-4d82-8557-21b22f80968c"
      },
      "source": [
        "api = tweepy.API(auth)\n",
        "\n",
        "public_tweets = api.home_timeline()\n",
        "for tweet in public_tweets:\n",
        "    print(tweet.text)\n",
        "\n",
        "### to see public tweets user has made\n"
      ],
      "execution_count": null,
      "outputs": [
        {
          "output_type": "stream",
          "name": "stdout",
          "text": [
            "Need a voice actor to bring this poem to life. I'd read this one as naturally as possible, like you're saying the w… https://t.co/WJ43r2oZAN\n",
            "Which of you has the voice acting chops to take this challenge on?\n",
            "\n",
            "I'd recommend reading it through and then findi… https://t.co/POibr1MAPS\n",
            "Targeting Monday, September 13 at 8:55 p.m. PDT for launch of Starlink from California → https://t.co/bJFjLCzWdK\n",
            "RT @MotorTrend: We head to Auto Club Famoso Raceway to test out how long it takes the 2022 @Tesla Model S Plaid to go from 0 to 60 mph. Tes…\n",
            "Flight-proven Falcon 9 launches GPS III-5 to orbit https://t.co/5Wu96cXCPM\n",
            "Deployment of GPS III-5 confirmed https://t.co/bMWn5OVr40\n",
            "The journalist @ElizKolbert has created a fascinating beat for herself covering humanity’s impact on nature and our… https://t.co/bGtGaFzDVI\n",
            "Falcon 9’s first stage has landed on the Just Read the Instructions droneship, completing this booster’s second GPS… https://t.co/0vXopHLqhH\n",
            "Fairing deploy https://t.co/OPkHu3a2Bq\n",
            "Liftoff! https://t.co/7dan9aoOsa\n",
            "Watch a flight-proven Falcon 9 launch GPS III-5 to orbit → https://t.co/bJFjLCzWdK https://t.co/ng9fDlnHv7\n",
            "Falcon 9 went vertical on the pad last night ahead of today's launch of the GPS III-5 mission. Webcast will go live… https://t.co/LaRct2s0yM\n",
            "RT @23andMe: 23andMe is now listed on the Nasdaq stock exchange as $ME! \n",
            "As a public company, we have the opportunity to expand on our miss…\n",
            "Brilliant to sit down with Jane Tewson and Marty Flanagan to talk about #TheArtOfPollination, a book that’s very sp… https://t.co/aqk8v6LA51\n",
            "Let’s just skip original video games &amp; movies &amp; go straight to the sequel\n",
            "As one of the earliest investors in @23andMe, I’ve long believed in its vision and we look forward to continuing ou… https://t.co/wGtQ5wDw16\n",
            "The persistence of countless Rotarians gives me hope that we can achieve a polio-free world. As they close the… https://t.co/jQ3bliJhh0\n",
            "https://t.co/v9mFAeSY1v\n",
            "I'm almost always interested in books about American presidents, and I especially loved A Promised Land. It’s a fas… https://t.co/xBNAjfwt5A\n",
            "These 10 businesses are all working to make a positive impact in the world. Find out more about the groundbreaking… https://t.co/t7kqLoBuoy\n"
          ]
        }
      ]
    },
    {
      "cell_type": "markdown",
      "metadata": {
        "id": "-eTgi7UaL6G8"
      },
      "source": [
        "get user name to which we wanted to create bot"
      ]
    },
    {
      "cell_type": "code",
      "metadata": {
        "colab": {
          "base_uri": "https://localhost:8080/"
        },
        "id": "_aL66r93DnUS",
        "outputId": "583c3e02-377c-428d-e9a1-56c40802981a"
      },
      "source": [
        "user=api.get_user('@harsh14559937')\n",
        "user"
      ],
      "execution_count": null,
      "outputs": [
        {
          "output_type": "execute_result",
          "data": {
            "text/plain": [
              "User(_api=<tweepy.api.API object at 0x7f5a61dddd50>, _json={'id': 1400730890183995392, 'id_str': '1400730890183995392', 'name': 'Harsh 10 following', 'screen_name': 'harsh14559937', 'location': '', 'profile_location': None, 'description': 'LIving best life possible', 'url': None, 'entities': {'description': {'urls': []}}, 'protected': False, 'followers_count': 0, 'friends_count': 10, 'listed_count': 0, 'created_at': 'Fri Jun 04 08:27:31 +0000 2021', 'favourites_count': 2, 'utc_offset': None, 'time_zone': None, 'geo_enabled': False, 'verified': False, 'statuses_count': 5, 'lang': None, 'status': {'created_at': 'Mon Jun 21 05:35:27 +0000 2021', 'id': 1406848215434027011, 'id_str': '1406848215434027011', 'text': 'I just posted this from my thing!', 'truncated': False, 'entities': {'hashtags': [], 'symbols': [], 'user_mentions': [], 'urls': []}, 'source': '<a href=\"https://thingspeak.com/apps/thingtweet\" rel=\"nofollow\">ThingTweet</a>', 'in_reply_to_status_id': None, 'in_reply_to_status_id_str': None, 'in_reply_to_user_id': None, 'in_reply_to_user_id_str': None, 'in_reply_to_screen_name': None, 'geo': None, 'coordinates': None, 'place': None, 'contributors': None, 'is_quote_status': False, 'retweet_count': 0, 'favorite_count': 1, 'favorited': True, 'retweeted': False, 'lang': 'en'}, 'contributors_enabled': False, 'is_translator': False, 'is_translation_enabled': False, 'profile_background_color': 'F5F8FA', 'profile_background_image_url': None, 'profile_background_image_url_https': None, 'profile_background_tile': False, 'profile_image_url': 'http://abs.twimg.com/sticky/default_profile_images/default_profile_normal.png', 'profile_image_url_https': 'https://abs.twimg.com/sticky/default_profile_images/default_profile_normal.png', 'profile_link_color': '1DA1F2', 'profile_sidebar_border_color': 'C0DEED', 'profile_sidebar_fill_color': 'DDEEF6', 'profile_text_color': '333333', 'profile_use_background_image': True, 'has_extended_profile': True, 'default_profile': True, 'default_profile_image': True, 'following': False, 'follow_request_sent': False, 'notifications': False, 'translator_type': 'none', 'withheld_in_countries': [], 'suspended': False, 'needs_phone_verification': False}, id=1400730890183995392, id_str='1400730890183995392', name='Harsh 10 following', screen_name='harsh14559937', location='', profile_location=None, description='LIving best life possible', url=None, entities={'description': {'urls': []}}, protected=False, followers_count=0, friends_count=10, listed_count=0, created_at=datetime.datetime(2021, 6, 4, 8, 27, 31), favourites_count=2, utc_offset=None, time_zone=None, geo_enabled=False, verified=False, statuses_count=5, lang=None, status=Status(_api=<tweepy.api.API object at 0x7f5a61dddd50>, _json={'created_at': 'Mon Jun 21 05:35:27 +0000 2021', 'id': 1406848215434027011, 'id_str': '1406848215434027011', 'text': 'I just posted this from my thing!', 'truncated': False, 'entities': {'hashtags': [], 'symbols': [], 'user_mentions': [], 'urls': []}, 'source': '<a href=\"https://thingspeak.com/apps/thingtweet\" rel=\"nofollow\">ThingTweet</a>', 'in_reply_to_status_id': None, 'in_reply_to_status_id_str': None, 'in_reply_to_user_id': None, 'in_reply_to_user_id_str': None, 'in_reply_to_screen_name': None, 'geo': None, 'coordinates': None, 'place': None, 'contributors': None, 'is_quote_status': False, 'retweet_count': 0, 'favorite_count': 1, 'favorited': True, 'retweeted': False, 'lang': 'en'}, created_at=datetime.datetime(2021, 6, 21, 5, 35, 27), id=1406848215434027011, id_str='1406848215434027011', text='I just posted this from my thing!', truncated=False, entities={'hashtags': [], 'symbols': [], 'user_mentions': [], 'urls': []}, source='ThingTweet', source_url='https://thingspeak.com/apps/thingtweet', in_reply_to_status_id=None, in_reply_to_status_id_str=None, in_reply_to_user_id=None, in_reply_to_user_id_str=None, in_reply_to_screen_name=None, geo=None, coordinates=None, place=None, contributors=None, is_quote_status=False, retweet_count=0, favorite_count=1, favorited=True, retweeted=False, lang='en'), contributors_enabled=False, is_translator=False, is_translation_enabled=False, profile_background_color='F5F8FA', profile_background_image_url=None, profile_background_image_url_https=None, profile_background_tile=False, profile_image_url='http://abs.twimg.com/sticky/default_profile_images/default_profile_normal.png', profile_image_url_https='https://abs.twimg.com/sticky/default_profile_images/default_profile_normal.png', profile_link_color='1DA1F2', profile_sidebar_border_color='C0DEED', profile_sidebar_fill_color='DDEEF6', profile_text_color='333333', profile_use_background_image=True, has_extended_profile=True, default_profile=True, default_profile_image=True, following=False, follow_request_sent=False, notifications=False, translator_type='none', withheld_in_countries=[], suspended=False, needs_phone_verification=False)"
            ]
          },
          "metadata": {},
          "execution_count": 20
        }
      ]
    },
    {
      "cell_type": "markdown",
      "metadata": {
        "id": "cSLJKVOjPaJt"
      },
      "source": [
        "Store in variable a follower count"
      ]
    },
    {
      "cell_type": "code",
      "metadata": {
        "colab": {
          "base_uri": "https://localhost:8080/"
        },
        "id": "bp3oME3LEjb5",
        "outputId": "65637315-ea51-4658-8b5f-49eb60fb47ea"
      },
      "source": [
        "u=user.followers_count\n",
        "u"
      ],
      "execution_count": null,
      "outputs": [
        {
          "output_type": "execute_result",
          "data": {
            "text/plain": [
              "0"
            ]
          },
          "metadata": {},
          "execution_count": 29
        }
      ]
    },
    {
      "cell_type": "markdown",
      "metadata": {
        "id": "V7IHkF0ePfSM"
      },
      "source": [
        "Update user profile"
      ]
    },
    {
      "cell_type": "code",
      "metadata": {
        "colab": {
          "base_uri": "https://localhost:8080/"
        },
        "id": "mD_FydQGE8u1",
        "outputId": "de4a6f7d-5238-4462-ff84-71a94e4b040b"
      },
      "source": [
        "api.update_profile(name=f'Harsh {u} Followers')"
      ],
      "execution_count": null,
      "outputs": [
        {
          "output_type": "execute_result",
          "data": {
            "text/plain": [
              "User(_api=<tweepy.api.API object at 0x7f5a61dddd50>, _json={'id': 1400730890183995392, 'id_str': '1400730890183995392', 'name': 'Harsh 0 Followers', 'screen_name': 'harsh14559937', 'location': '', 'profile_location': None, 'description': 'LIving best life possible', 'url': None, 'entities': {'description': {'urls': []}}, 'protected': False, 'followers_count': 0, 'friends_count': 10, 'listed_count': 0, 'created_at': 'Fri Jun 04 08:27:31 +0000 2021', 'favourites_count': 2, 'utc_offset': None, 'time_zone': None, 'geo_enabled': False, 'verified': False, 'statuses_count': 5, 'lang': None, 'status': {'created_at': 'Mon Jun 21 05:35:27 +0000 2021', 'id': 1406848215434027011, 'id_str': '1406848215434027011', 'text': 'I just posted this from my thing!', 'truncated': False, 'entities': {'hashtags': [], 'symbols': [], 'user_mentions': [], 'urls': []}, 'source': '<a href=\"https://thingspeak.com/apps/thingtweet\" rel=\"nofollow\">ThingTweet</a>', 'in_reply_to_status_id': None, 'in_reply_to_status_id_str': None, 'in_reply_to_user_id': None, 'in_reply_to_user_id_str': None, 'in_reply_to_screen_name': None, 'geo': None, 'coordinates': None, 'place': None, 'contributors': None, 'is_quote_status': False, 'retweet_count': 0, 'favorite_count': 1, 'favorited': True, 'retweeted': False, 'lang': 'en'}, 'contributors_enabled': False, 'is_translator': False, 'is_translation_enabled': False, 'profile_background_color': 'F5F8FA', 'profile_background_image_url': None, 'profile_background_image_url_https': None, 'profile_background_tile': False, 'profile_image_url': 'http://abs.twimg.com/sticky/default_profile_images/default_profile_normal.png', 'profile_image_url_https': 'https://abs.twimg.com/sticky/default_profile_images/default_profile_normal.png', 'profile_link_color': '1DA1F2', 'profile_sidebar_border_color': 'C0DEED', 'profile_sidebar_fill_color': 'DDEEF6', 'profile_text_color': '333333', 'profile_use_background_image': True, 'has_extended_profile': True, 'default_profile': True, 'default_profile_image': True, 'following': None, 'follow_request_sent': False, 'notifications': None, 'translator_type': 'none', 'withheld_in_countries': []}, id=1400730890183995392, id_str='1400730890183995392', name='Harsh 0 Followers', screen_name='harsh14559937', location='', profile_location=None, description='LIving best life possible', url=None, entities={'description': {'urls': []}}, protected=False, followers_count=0, friends_count=10, listed_count=0, created_at=datetime.datetime(2021, 6, 4, 8, 27, 31), favourites_count=2, utc_offset=None, time_zone=None, geo_enabled=False, verified=False, statuses_count=5, lang=None, status=Status(_api=<tweepy.api.API object at 0x7f5a61dddd50>, _json={'created_at': 'Mon Jun 21 05:35:27 +0000 2021', 'id': 1406848215434027011, 'id_str': '1406848215434027011', 'text': 'I just posted this from my thing!', 'truncated': False, 'entities': {'hashtags': [], 'symbols': [], 'user_mentions': [], 'urls': []}, 'source': '<a href=\"https://thingspeak.com/apps/thingtweet\" rel=\"nofollow\">ThingTweet</a>', 'in_reply_to_status_id': None, 'in_reply_to_status_id_str': None, 'in_reply_to_user_id': None, 'in_reply_to_user_id_str': None, 'in_reply_to_screen_name': None, 'geo': None, 'coordinates': None, 'place': None, 'contributors': None, 'is_quote_status': False, 'retweet_count': 0, 'favorite_count': 1, 'favorited': True, 'retweeted': False, 'lang': 'en'}, created_at=datetime.datetime(2021, 6, 21, 5, 35, 27), id=1406848215434027011, id_str='1406848215434027011', text='I just posted this from my thing!', truncated=False, entities={'hashtags': [], 'symbols': [], 'user_mentions': [], 'urls': []}, source='ThingTweet', source_url='https://thingspeak.com/apps/thingtweet', in_reply_to_status_id=None, in_reply_to_status_id_str=None, in_reply_to_user_id=None, in_reply_to_user_id_str=None, in_reply_to_screen_name=None, geo=None, coordinates=None, place=None, contributors=None, is_quote_status=False, retweet_count=0, favorite_count=1, favorited=True, retweeted=False, lang='en'), contributors_enabled=False, is_translator=False, is_translation_enabled=False, profile_background_color='F5F8FA', profile_background_image_url=None, profile_background_image_url_https=None, profile_background_tile=False, profile_image_url='http://abs.twimg.com/sticky/default_profile_images/default_profile_normal.png', profile_image_url_https='https://abs.twimg.com/sticky/default_profile_images/default_profile_normal.png', profile_link_color='1DA1F2', profile_sidebar_border_color='C0DEED', profile_sidebar_fill_color='DDEEF6', profile_text_color='333333', profile_use_background_image=True, has_extended_profile=True, default_profile=True, default_profile_image=True, following=False, follow_request_sent=False, notifications=None, translator_type='none', withheld_in_countries=[])"
            ]
          },
          "metadata": {},
          "execution_count": 24
        }
      ]
    },
    {
      "cell_type": "code",
      "metadata": {
        "id": "QkQt3eTlPqwL"
      },
      "source": [
        "### Final Code"
      ],
      "execution_count": null,
      "outputs": []
    },
    {
      "cell_type": "code",
      "metadata": {
        "colab": {
          "base_uri": "https://localhost:8080/"
        },
        "id": "9CakE_1bFev7",
        "outputId": "f4782bf5-515e-4c56-ae6b-7435e2b5df8b"
      },
      "source": [
        "import time\n",
        "import tweepy\n",
        "\n",
        "auth = tweepy.OAuthHandler(consumer_key, consumer_secret)\n",
        "auth.set_access_token(access_token, access_token_secret)\n",
        "\n",
        "api = tweepy.API(auth)\n",
        "print('Authentication approved')\n",
        "while True:\n",
        "  user=api.get_user('@harsh14559937')\n",
        "  u=user.friends_count\n",
        "  api.update_profile(name=f'Harsh {u} following')\n",
        "  print(f'Harsh {u} following')\n",
        "\n",
        "\n",
        "  time.sleep(60)\n",
        "\n",
        "## it is running in while loop so that it can update result as the followers changes\n"
      ],
      "execution_count": null,
      "outputs": [
        {
          "output_type": "stream",
          "name": "stdout",
          "text": [
            "Authentication approved\n",
            "Harsh 10 following\n",
            "Harsh 11 following\n",
            "Harsh 11 following\n",
            "Harsh 11 following\n",
            "Harsh 11 following\n",
            "Harsh 11 following\n"
          ]
        }
      ]
    },
    {
      "cell_type": "code",
      "metadata": {
        "id": "huz6i1oBGAFL"
      },
      "source": [
        ""
      ],
      "execution_count": null,
      "outputs": []
    }
  ]
}