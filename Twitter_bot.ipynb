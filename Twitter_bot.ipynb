{
  "nbformat": 4,
  "nbformat_minor": 0,
  "metadata": {
    "colab": {
      "name": "Twitter_bot.ipynb",
      "provenance": [],
      "collapsed_sections": [],
      "authorship_tag": "ABX9TyOQvarzJr0ISc/Q4HdDWb2p"
    },
    "kernelspec": {
      "name": "python3",
      "display_name": "Python 3"
    },
    "language_info": {
      "name": "python"
    }
  },
  "cells": [
    {
      "cell_type": "code",
      "metadata": {
        "id": "ryvVhcxB_rfb"
      },
      "source": [
        ""
      ],
      "execution_count": null,
      "outputs": []
    },
    {
      "cell_type": "markdown",
      "metadata": {
        "id": "ielTpOoFLi5t"
      },
      "source": [
        "## **Twitter-Bot** with the help of Twitter Developer Account\n",
        "-Creator : Thummar Harsh B\n"
      ]
    },
    {
      "cell_type": "code",
      "metadata": {
        "id": "yjTgWCBhPyOg"
      },
      "source": [
        "## Description: here we are going to create a twitter-bot which takes \n",
        "##   User's Name and follower count / following count and \n",
        "##   combined it to up date final user name which looks like:\n",
        "\n",
        "## final_username= 'user_name' + 'No_of-followers'\n",
        "\n",
        "## now this will run into loop and gets updated every time when no_of_followers changes of the user"
      ],
      "execution_count": null,
      "outputs": []
    },
    {
      "cell_type": "markdown",
      "metadata": {
        "id": "FjaVL_wzL7f4"
      },
      "source": [
        "**step 1**: \n",
        "import tweepy library \n",
        "\n",
        "\n",
        " "
      ]
    },
    {
      "cell_type": "markdown",
      "metadata": {
        "id": "WqmBiK7NMgOG"
      },
      "source": [
        "**step 2**: Collect necessory from twitter developer account like \n",
        "-\n",
        "\n",
        "              - consumer_key\n",
        "              - Consumer_secret\n",
        "              - access_token\n",
        "              - access_token_secret\n",
        "\n",
        "              "
      ]
    },
    {
      "cell_type": "code",
      "metadata": {
        "id": "m2NNueIMQE30"
      },
      "source": [
        " ## Here, to Access Authentication write this code in Google-colab and see users activity"
      ],
      "execution_count": null,
      "outputs": []
    },
    {
      "cell_type": "code",
      "metadata": {
        "id": "m11ryDvaAUYZ"
      },
      "source": [
        "import tweepy\n",
        "consumer_key=''\n",
        "consumer_secret=''\n",
        "access_token=''\n",
        "access_token_secret=''\n",
        "## put these keys from twitter developer account"
      ],
      "execution_count": null,
      "outputs": []
    },
    {
      "cell_type": "code",
      "metadata": {
        "id": "7dgkV2M0PA3Y"
      },
      "source": [
        "import tweepy\n",
        "\n",
        "auth = tweepy.OAuthHandler(consumer_key, consumer_secret)\n",
        "auth.set_access_token(access_token, access_token_secret)\n",
        "\n",
        "## now developer has authentication of that twitter account"
      ],
      "execution_count": null,
      "outputs": []
    },
    {
      "cell_type": "code",
      "metadata": {
        "id": "zWg1fmJjPEfO"
      },
      "source": [
        "api = tweepy.API(auth)\n",
        "\n",
        "public_tweets = api.home_timeline()\n",
        "for tweet in public_tweets:\n",
        "    print(tweet.text)\n",
        "\n",
        "### to see public tweets user has made\n"
      ],
      "execution_count": null,
      "outputs": []
    },
    {
      "cell_type": "markdown",
      "metadata": {
        "id": "-eTgi7UaL6G8"
      },
      "source": [
        "get user name to which we wanted to create bot"
      ]
    },
    {
      "cell_type": "code",
      "metadata": {
        "id": "_aL66r93DnUS"
      },
      "source": [
        "user=api.get_user('@')  ## put username of twitter\n",
        "user"
      ],
      "execution_count": null,
      "outputs": []
    },
    {
      "cell_type": "markdown",
      "metadata": {
        "id": "cSLJKVOjPaJt"
      },
      "source": [
        "Store in variable a follower count"
      ]
    },
    {
      "cell_type": "code",
      "metadata": {
        "colab": {
          "base_uri": "https://localhost:8080/"
        },
        "id": "bp3oME3LEjb5",
        "outputId": "65637315-ea51-4658-8b5f-49eb60fb47ea"
      },
      "source": [
        "u=user.followers_count\n",
        "u"
      ],
      "execution_count": null,
      "outputs": [
        {
          "output_type": "execute_result",
          "data": {
            "text/plain": [
              "0"
            ]
          },
          "metadata": {},
          "execution_count": 29
        }
      ]
    },
    {
      "cell_type": "markdown",
      "metadata": {
        "id": "V7IHkF0ePfSM"
      },
      "source": [
        "Update user profile"
      ]
    },
    {
      "cell_type": "code",
      "metadata": {
        "id": "mD_FydQGE8u1"
      },
      "source": [
        "m=pi.update_profile(name=f'Harsh {u} Followers')"
      ],
      "execution_count": null,
      "outputs": []
    },
    {
      "cell_type": "code",
      "metadata": {
        "id": "QkQt3eTlPqwL"
      },
      "source": [
        "### Final Code"
      ],
      "execution_count": null,
      "outputs": []
    },
    {
      "cell_type": "code",
      "metadata": {
        "colab": {
          "base_uri": "https://localhost:8080/"
        },
        "id": "9CakE_1bFev7",
        "outputId": "6f67f266-a0a0-40cb-8365-f477fc543c1a"
      },
      "source": [
        "import time\n",
        "import tweepy\n",
        "\n",
        "auth = tweepy.OAuthHandler(consumer_key, consumer_secret)\n",
        "auth.set_access_token(access_token, access_token_secret)\n",
        "\n",
        "api = tweepy.API(auth)\n",
        "print('Authentication approved')\n",
        "while True:\n",
        "  user=api.get_user('')\n",
        "  u=user.friends_count\n",
        "  api.update_profile(name=f'Harsh {u} following')\n",
        "  print(f'Harsh {u} following')\n",
        "\n",
        "\n",
        "  time.sleep(60)\n",
        "\n",
        "## it is running in while loop so that it can update result as the followers changes\n"
      ],
      "execution_count": null,
      "outputs": [
        {
          "output_type": "stream",
          "name": "stdout",
          "text": [
            "Authentication approved\n",
            "Harsh 10 following\n",
            "Harsh 11 following\n",
            "Harsh 11 following\n",
            "Harsh 11 following\n",
            "Harsh 11 following\n",
            "Harsh 11 following\n",
            "Harsh 11 following\n",
            "Harsh 11 following\n",
            "Harsh 11 following\n",
            "Harsh 11 following\n",
            "Harsh 11 following\n",
            "Harsh 11 following\n",
            "Harsh 11 following\n",
            "Harsh 11 following\n",
            "Harsh 11 following\n",
            "Harsh 11 following\n",
            "Harsh 11 following\n",
            "Harsh 11 following\n",
            "Harsh 11 following\n",
            "Harsh 11 following\n",
            "Harsh 11 following\n",
            "Harsh 11 following\n",
            "Harsh 11 following\n",
            "Harsh 11 following\n",
            "Harsh 11 following\n",
            "Harsh 11 following\n",
            "Harsh 11 following\n",
            "Harsh 11 following\n",
            "Harsh 11 following\n",
            "Harsh 11 following\n",
            "Harsh 11 following\n",
            "Harsh 11 following\n",
            "Harsh 11 following\n",
            "Harsh 11 following\n"
          ]
        }
      ]
    },
    {
      "cell_type": "code",
      "metadata": {
        "id": "huz6i1oBGAFL"
      },
      "source": [
        ""
      ],
      "execution_count": null,
      "outputs": []
    }
  ]
}